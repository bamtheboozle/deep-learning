{
 "cells": [
  {
   "cell_type": "markdown",
   "metadata": {},
   "source": [
    "The Logistic Regression Algorithm goes like this:\n",
    "\n",
    "Take your data\n",
    "Pick a random model\n",
    "Calculate the error\n",
    "Minimize the error, and obtain a better model\n",
    "Enjoy!"
   ]
  },
  {
   "cell_type": "markdown",
   "metadata": {},
   "source": [
    "$$if: y=1$$\n",
    "$$P(blue)=\\hat{y}$$\n",
    "$$Error = -ln(\\hat{y})$$\n",
    "\n",
    "$$if: y=0$$\n",
    "$$P(red)= 1 - P(blue) = 1 - \\hat{y}$$\n",
    "$$Error = -ln(1 - \\hat{y})$$\n",
    "\n",
    "so then:\n",
    "\n",
    "$$Error = -(1-y)(ln(1-\\hat{y})) - yln(\\hat{y})$$\n",
    "$$Error Function = -\\frac{1}{m}\\sum_{i=1}^{m}(1-y_i)(ln(1-\\hat{y_i})) + y_iln(\\hat{y_i})$$\n",
    "$$E(W,b) = -\\frac{1}{m}\\sum_{i=1}^{m}(1-y_i)ln(1-\\sigma(Wx^i + b)) + y_iln(\\sigma(Wx^i + b))$$"
   ]
  },
  {
   "cell_type": "markdown",
   "metadata": {},
   "source": [
    "goal is to minimize the error function through GRADIENT DESCENT"
   ]
  },
  {
   "cell_type": "markdown",
   "metadata": {},
   "source": [
    "$$\\triangledown E = -(y - \\hat{y})(x_1, x_2,...,x_n,1)$$"
   ]
  },
  {
   "cell_type": "markdown",
   "metadata": {},
   "source": [
    "the weights and bias are updated in the following way at each step:\n",
    "$$w'_i = w_i - \\alpha (\\hat{y} - y)x_i$$\n",
    "$$b' = b - \\alpha (\\hat{y} - y)$$"
   ]
  },
  {
   "cell_type": "markdown",
   "metadata": {},
   "source": [
    "step 1: start with random weights\n",
    "then, for every point in coordinates x1, xn -> update wi prime and b prime with formula as above\n",
    "repeat until the error is small or a fixed number of times (epochs)"
   ]
  }
 ],
 "metadata": {
  "kernelspec": {
   "display_name": "Python [conda env:.conda-py3] *",
   "language": "python",
   "name": "conda-env-.conda-py3-py"
  },
  "language_info": {
   "codemirror_mode": {
    "name": "ipython",
    "version": 3
   },
   "file_extension": ".py",
   "mimetype": "text/x-python",
   "name": "python",
   "nbconvert_exporter": "python",
   "pygments_lexer": "ipython3",
   "version": "3.7.7"
  }
 },
 "nbformat": 4,
 "nbformat_minor": 4
}
