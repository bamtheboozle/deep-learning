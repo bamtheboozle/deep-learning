{
 "cells": [
  {
   "cell_type": "markdown",
   "metadata": {},
   "source": [
    "to get the probability that a model is good, we need to have a product of the classified points probabilities\n",
    "eg:\n",
    "0.6*0.2*0.1*0.7\n",
    "\n",
    "however, not enough. we need to figure out the cross entropy of this model. cross entropy tells us how good a model is, taking into account negative numbers\n",
    "\n",
    "to do that, we need to apply negative ln, so the cross entropy becomes\n",
    "\n",
    "-ln(0.6) - ln(0.2) - ln(0.1) - ln(0.7) = 4.8 -> high cross entropy, bad model\n",
    "-ln(0.7) - ln(0.9) - ln(0.8) - ln(0.6) = 1.2 -> low cross entropy, good model"
   ]
  },
  {
   "cell_type": "markdown",
   "metadata": {},
   "source": [
    "events / probabilities -> how likely that those events happen based on that probability.\n",
    "\n",
    "if likely, low cross entropy -> good\n",
    "if unlikely, high cross entropy -> bad"
   ]
  },
  {
   "cell_type": "markdown",
   "metadata": {},
   "source": [
    "| green    | red   |  blue     |  probability  | cross entropy  |\n",
    "|----------|-------|-----------|---------------|----------------|\n",
    "|    0.8   |  0.7  | 0.1       |     0.056     |   2.88         |\n",
    "|    0.8   |  0.7  | 0.9       |     0.504     |     0.69       |\n",
    "|    0.8   |  0.3  | 0.1       |     0.024     |      3.73      |\n",
    "|    0.2   |  0.7  | 0.1       |     0.014     |    4.27        |\n",
    "|    0.8   |  0.3  | 0.9       |     0.216     |    1.53        |\n",
    "|    0.2   |  0.7  | 0.9       |     0.126     |    2.07        |\n",
    "|    0.2   |  0.3  | 0.1       |     0.006     |    5.12        |\n",
    "|    0.2   |  0.3  | 0.9       |     0.054     |    2.92        |"
   ]
  },
  {
   "cell_type": "code",
   "execution_count": 15,
   "metadata": {},
   "outputs": [],
   "source": [
    "# for Y=[1,0,1,1] and P=[0.4,0.6,0.1,0.5]\n",
    "# return float for cross entropy\n",
    "import numpy as np\n",
    "def cross_entropy(Y,P):\n",
    "    singleTerms = []\n",
    "    for i in range(len(Y)):\n",
    "        singleTerms.append(Y[i]*np.log(P[i]) + (1-Y[i])*np.log(1 - P[i]))\n",
    "    return -np.sum(singleTerms)"
   ]
  },
  {
   "cell_type": "code",
   "execution_count": 16,
   "metadata": {},
   "outputs": [
    {
     "name": "stdout",
     "output_type": "stream",
     "text": [
      "13.7 µs ± 424 ns per loop (mean ± std. dev. of 7 runs, 100000 loops each)\n"
     ]
    }
   ],
   "source": [
    "%timeit cross_entropy([1,0,1,1],[0.4,0.6,0.1,0.5])"
   ]
  },
  {
   "cell_type": "code",
   "execution_count": 17,
   "metadata": {},
   "outputs": [],
   "source": [
    "import numpy as np\n",
    "\n",
    "def cross_entropy_fast(Y, P):\n",
    "    Y = np.float_(Y)\n",
    "    P = np.float_(P)\n",
    "    return -np.sum(Y * np.log(P) + (1 - Y) * np.log(1 - P))"
   ]
  },
  {
   "cell_type": "code",
   "execution_count": 18,
   "metadata": {},
   "outputs": [
    {
     "name": "stdout",
     "output_type": "stream",
     "text": [
      "9.45 µs ± 160 ns per loop (mean ± std. dev. of 7 runs, 100000 loops each)\n"
     ]
    }
   ],
   "source": [
    "%timeit cross_entropy_fast([1,0,1,1],[0.4,0.6,0.1,0.5])"
   ]
  },
  {
   "cell_type": "markdown",
   "metadata": {},
   "source": [
    "formula for multi dimensional class entropy: $$-\\sum_{i=1}^{n}\\sum_{j=1}^{m}y_ij*ln(p_ij)$$\n",
    "\n",
    "where m is number of classes, and n is number of probabilities"
   ]
  }
 ],
 "metadata": {
  "kernelspec": {
   "display_name": "Python [conda env:.conda-py3] *",
   "language": "python",
   "name": "conda-env-.conda-py3-py"
  },
  "language_info": {
   "codemirror_mode": {
    "name": "ipython",
    "version": 3
   },
   "file_extension": ".py",
   "mimetype": "text/x-python",
   "name": "python",
   "nbconvert_exporter": "python",
   "pygments_lexer": "ipython3",
   "version": "3.7.7"
  }
 },
 "nbformat": 4,
 "nbformat_minor": 4
}
